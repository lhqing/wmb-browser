{
 "cells": [
  {
   "cell_type": "code",
   "execution_count": 1,
   "id": "ba723d4f-7911-433f-ad42-a674d6285b67",
   "metadata": {
    "execution": {
     "iopub.execute_input": "2023-10-04T23:42:18.011449Z",
     "iopub.status.busy": "2023-10-04T23:42:18.011298Z",
     "iopub.status.idle": "2023-10-04T23:42:20.441617Z",
     "shell.execute_reply": "2023-10-04T23:42:20.440932Z",
     "shell.execute_reply.started": "2023-10-04T23:42:18.011431Z"
    }
   },
   "outputs": [],
   "source": [
    "import pandas as pd\n",
    "import higlass\n",
    "import numpy as np\n",
    "from wmb_browser.backend.higlass_dash import *\n",
    "from wmb_browser.backend.genome import mm10\n",
    "import re"
   ]
  },
  {
   "cell_type": "code",
   "execution_count": 2,
   "id": "ca54597f-2350-4ead-b90e-16dba3c1811f",
   "metadata": {
    "execution": {
     "iopub.execute_input": "2023-10-04T23:42:20.443533Z",
     "iopub.status.busy": "2023-10-04T23:42:20.443032Z",
     "iopub.status.idle": "2023-10-04T23:42:20.454790Z",
     "shell.execute_reply": "2023-10-04T23:42:20.454137Z",
     "shell.execute_reply.started": "2023-10-04T23:42:20.443514Z"
    }
   },
   "outputs": [],
   "source": [
    "server='https://localhost:8989/api/v1'\n",
    "\n",
    "hgd = HiglassDash(server=server)"
   ]
  },
  {
   "cell_type": "code",
   "execution_count": 3,
   "id": "4781244d-2d82-4754-8710-39b635a83c8d",
   "metadata": {
    "execution": {
     "iopub.execute_input": "2023-10-04T23:42:20.455687Z",
     "iopub.status.busy": "2023-10-04T23:42:20.455519Z",
     "iopub.status.idle": "2023-10-04T23:42:20.458921Z",
     "shell.execute_reply": "2023-10-04T23:42:20.458350Z",
     "shell.execute_reply.started": "2023-10-04T23:42:20.455672Z"
    }
   },
   "outputs": [],
   "source": [
    "ct1 = 'CA3 Glut'\n",
    "ct2 = 'Sst Gaba'\n",
    "ct3 = 'L6 CT CTX Glut'"
   ]
  },
  {
   "cell_type": "code",
   "execution_count": 4,
   "id": "54f9c675-0439-4075-b165-071651f945fa",
   "metadata": {
    "execution": {
     "iopub.execute_input": "2023-10-04T23:42:20.459792Z",
     "iopub.status.busy": "2023-10-04T23:42:20.459625Z",
     "iopub.status.idle": "2023-10-04T23:42:20.463070Z",
     "shell.execute_reply": "2023-10-04T23:42:20.462542Z",
     "shell.execute_reply.started": "2023-10-04T23:42:20.459778Z"
    }
   },
   "outputs": [],
   "source": [
    "cell_type = ct1\n",
    "modality_2d='Impute 10K'\n",
    "modality_1d=('mCH Frac', 'mCG Frac', 'ATAC CPM')\n",
    "pos_1d='top'\n",
    "add_genome_track=True\n",
    "region1='chr1:10000000-11000000'\n",
    "region2='chr1:18000000-19000000'"
   ]
  },
  {
   "cell_type": "code",
   "execution_count": 5,
   "id": "ad833971-ee6c-4d15-ba53-96065f43884e",
   "metadata": {
    "execution": {
     "iopub.execute_input": "2023-10-04T23:42:20.463873Z",
     "iopub.status.busy": "2023-10-04T23:42:20.463710Z",
     "iopub.status.idle": "2023-10-04T23:42:20.540517Z",
     "shell.execute_reply": "2023-10-04T23:42:20.539846Z",
     "shell.execute_reply.started": "2023-10-04T23:42:20.463859Z"
    }
   },
   "outputs": [
    {
     "data": {
      "text/plain": [
       "mm10 main chrom sizes                 chrom sizes\n",
       "CA3 Glut ATAC CPM                        ATAC CPM\n",
       "L6 CT CTX Glut ATAC CPM                  ATAC CPM\n",
       "Sst Gaba ATAC CPM                        ATAC CPM\n",
       "STR D1 Gaba ATAC CPM                     ATAC CPM\n",
       "                                         ...     \n",
       "PH-an Pitx2 Glut SMART CPM              SMART CPM\n",
       "MM-ant Foxb1 Glut SMART CPM             SMART CPM\n",
       "PMv-TMv Pitx2 Glut SMART CPM            SMART CPM\n",
       "IPN-LDT Vsx2 Nkx6-1 Glut SMART CPM      SMART CPM\n",
       "Peri NN SMART CPM                       SMART CPM\n",
       "Name: TrackType, Length: 2459, dtype: object"
      ]
     },
     "execution_count": 5,
     "metadata": {},
     "output_type": "execute_result"
    }
   ],
   "source": [
    "hgd.track_table['TrackType']"
   ]
  },
  {
   "cell_type": "code",
   "execution_count": 8,
   "id": "ccaa0ebe-2a5c-4d11-ba2d-3d2383d5b54c",
   "metadata": {
    "execution": {
     "iopub.execute_input": "2023-10-04T23:43:07.909304Z",
     "iopub.status.busy": "2023-10-04T23:43:07.909032Z",
     "iopub.status.idle": "2023-10-04T23:43:07.920058Z",
     "shell.execute_reply": "2023-10-04T23:43:07.919459Z",
     "shell.execute_reply.started": "2023-10-04T23:43:07.909287Z"
    }
   },
   "outputs": [
    {
     "data": {
      "text/html": [
       "\n",
       "<!DOCTYPE html>\n",
       "<html>\n",
       "  <head>\n",
       "    <link rel=\"stylesheet\" href=\"https://esm.sh/higlass@1.12/dist/hglib.css\">\n",
       "    <script src=\"https://unpkg.com/requirejs-toggle\"></script>\n",
       "    \n",
       "    <script src=\"https://unpkg.com/requirejs-toggle\"></script>\n",
       "  </head>\n",
       "  <body>\n",
       "    <div id=\"jupyter-hg-3e0f43568ada49e38116682b0680afdd\"></div>\n",
       "  </body>\n",
       "  <script type=\"module\">\n",
       "    import hglib from \"https://esm.sh/higlass@1.12?deps=react@17,react-dom@17,pixi.js@6\";\n",
       "    hglib.viewer(\n",
       "      document.getElementById('jupyter-hg-3e0f43568ada49e38116682b0680afdd'),\n",
       "      {\"editable\": true, \"viewEditable\": true, \"tracksEditable\": true, \"views\": [{\"layout\": {\"x\": 0, \"y\": 0, \"w\": 12, \"h\": 6}, \"tracks\": {\"top\": [{\"tilesetUid\": \"EtrWT0VtScixmsmwFSd7zg\", \"server\": \"https://higlass.io/api/v1\", \"type\": \"chromosome-labels\", \"uid\": \"9aae47aa-46ef-44ac-bbee-2b98909434e0\", \"height\": 25, \"options\": {\"name\": \"mm10 Chrom Sizes\", \"showTooltip\": true, \"showMousePosition\": true, \"barFillColor\": \"#E71F19\", \"barFillColorTop\": \"#E71F19\", \"barFillColorBottom\": \"#16499D\"}}, {\"tilesetUid\": \"QDutvmyiSrec5nX4pA5WGQ\", \"server\": \"https://higlass.io/api/v1\", \"type\": \"gene-annotations\", \"uid\": \"2ab1ff70-a96f-432f-89b0-dc17f454ac5a\", \"height\": 100, \"options\": {\"name\": \"mm10 Gene Annotations\", \"showTooltip\": true, \"showMousePosition\": true, \"barFillColor\": \"#E71F19\", \"barFillColorTop\": \"#E71F19\", \"barFillColorBottom\": \"#16499D\"}}, {\"tilesetUid\": \"c5WaEeW1R7Ki2WGnURh2TA\", \"server\": \"https://localhost:8989/api/v1\", \"type\": \"bar\", \"uid\": \"6ee98f5d-a8f3-4971-ac1e-1f70696109a7\", \"height\": 25, \"options\": {\"name\": \"CA3 Glut mCH Frac\", \"showTooltip\": true, \"showMousePosition\": true, \"barFillColor\": \"#16499D\", \"barFillColorTop\": \"#E71F19\", \"barFillColorBottom\": \"#16499D\"}}, {\"tilesetUid\": \"W0OdIv84Q6yMfqpKvubetQ\", \"server\": \"https://localhost:8989/api/v1\", \"type\": \"bar\", \"uid\": \"a8923092-b671-412f-9b1f-a98e5911877d\", \"height\": 25, \"options\": {\"name\": \"Sst Gaba mCH Frac\", \"showTooltip\": true, \"showMousePosition\": true, \"barFillColor\": \"#16499D\", \"barFillColorTop\": \"#E71F19\", \"barFillColorBottom\": \"#16499D\"}}, {\"tilesetUid\": \"fCUnWnNbRRCaPg_6YNl8qQ\", \"server\": \"https://localhost:8989/api/v1\", \"type\": \"bar\", \"uid\": \"51e7e64f-d29e-440d-81cb-417d25bd370e\", \"height\": 25, \"options\": {\"name\": \"L6 CT CTX Glut mCH Frac\", \"showTooltip\": true, \"showMousePosition\": true, \"barFillColor\": \"#16499D\", \"barFillColorTop\": \"#E71F19\", \"barFillColorBottom\": \"#16499D\"}}, {\"tilesetUid\": \"SXCR5SEqREuMAE1Dx_LnxA\", \"server\": \"https://localhost:8989/api/v1\", \"type\": \"bar\", \"uid\": \"ae75ae1a-7b7f-4cad-89d5-f1d7a6c0b8cf\", \"height\": 25, \"options\": {\"name\": \"CA3 Glut mCG Frac\", \"showTooltip\": true, \"showMousePosition\": true, \"barFillColor\": \"#36AE37\", \"barFillColorTop\": \"#E71F19\", \"barFillColorBottom\": \"#16499D\"}}, {\"tilesetUid\": \"P8dzmuiKTWyOn9u2vqLg-w\", \"server\": \"https://localhost:8989/api/v1\", \"type\": \"bar\", \"uid\": \"2378a2c3-ce99-4661-8b18-52f3adcd3e50\", \"height\": 25, \"options\": {\"name\": \"Sst Gaba mCG Frac\", \"showTooltip\": true, \"showMousePosition\": true, \"barFillColor\": \"#36AE37\", \"barFillColorTop\": \"#E71F19\", \"barFillColorBottom\": \"#16499D\"}}, {\"tilesetUid\": \"QaLWlfpfScOdQcLq2PNSfw\", \"server\": \"https://localhost:8989/api/v1\", \"type\": \"bar\", \"uid\": \"7aa3c6b4-1409-4e60-8c2b-f077e8cc5c25\", \"height\": 25, \"options\": {\"name\": \"L6 CT CTX Glut mCG Frac\", \"showTooltip\": true, \"showMousePosition\": true, \"barFillColor\": \"#36AE37\", \"barFillColorTop\": \"#E71F19\", \"barFillColorBottom\": \"#16499D\"}}, {\"tilesetUid\": \"bt2BX-WeRneyzeT-xZOF5g\", \"server\": \"https://localhost:8989/api/v1\", \"type\": \"bar\", \"uid\": \"0fbce5d9-117a-4027-bb1e-98453d079c98\", \"height\": 25, \"options\": {\"name\": \"CA3 Glut ATAC CPM\", \"showTooltip\": true, \"showMousePosition\": true, \"barFillColor\": \"#EF7D1A\", \"barFillColorTop\": \"#E71F19\", \"barFillColorBottom\": \"#16499D\"}}, {\"tilesetUid\": \"fA7Rwv3MRn6g9gZpjZAhNg\", \"server\": \"https://localhost:8989/api/v1\", \"type\": \"bar\", \"uid\": \"101f18b6-3380-4ab0-b830-994bef2f7b5e\", \"height\": 25, \"options\": {\"name\": \"Sst Gaba ATAC CPM\", \"showTooltip\": true, \"showMousePosition\": true, \"barFillColor\": \"#EF7D1A\", \"barFillColorTop\": \"#E71F19\", \"barFillColorBottom\": \"#16499D\"}}, {\"tilesetUid\": \"cAqqyvTTTKW2hOCR0MGLFA\", \"server\": \"https://localhost:8989/api/v1\", \"type\": \"bar\", \"uid\": \"820503f8-aa84-48a9-8e04-17e9ded1458a\", \"height\": 25, \"options\": {\"name\": \"L6 CT CTX Glut ATAC CPM\", \"showTooltip\": true, \"showMousePosition\": true, \"barFillColor\": \"#EF7D1A\", \"barFillColorTop\": \"#E71F19\", \"barFillColorBottom\": \"#16499D\"}}, {\"tilesetUid\": \"N3HKj6v9Qd2LP2bnSNhmMA\", \"server\": \"https://localhost:8989/api/v1\", \"type\": \"bar\", \"uid\": \"c7109b9e-3cf6-4f35-8d51-51a82c698f79\", \"height\": 25, \"options\": {\"name\": \"CA3 Glut Domain Boundary\", \"showTooltip\": true, \"showMousePosition\": true, \"barFillColor\": \"#E71F19\", \"barFillColorTop\": \"#E71F19\", \"barFillColorBottom\": \"#16499D\"}}, {\"tilesetUid\": \"PMzIUx8IS5mOk8pPfDV-gA\", \"server\": \"https://localhost:8989/api/v1\", \"type\": \"bar\", \"uid\": \"bac1c914-a2a4-4154-a047-4ff0504e4ff7\", \"height\": 25, \"options\": {\"name\": \"Sst Gaba Domain Boundary\", \"showTooltip\": true, \"showMousePosition\": true, \"barFillColor\": \"#E71F19\", \"barFillColorTop\": \"#E71F19\", \"barFillColorBottom\": \"#16499D\"}}, {\"tilesetUid\": \"axCCDVoKSQGR1Ci03uH2eA\", \"server\": \"https://localhost:8989/api/v1\", \"type\": \"bar\", \"uid\": \"29f933e2-92c6-4712-a599-ce1b3d41f9a3\", \"height\": 25, \"options\": {\"name\": \"L6 CT CTX Glut Domain Boundary\", \"showTooltip\": true, \"showMousePosition\": true, \"barFillColor\": \"#E71F19\", \"barFillColorTop\": \"#E71F19\", \"barFillColorBottom\": \"#16499D\"}}, {\"tilesetUid\": \"OT476i4qRIWo0iMlNP0Yxg\", \"server\": \"https://localhost:8989/api/v1\", \"type\": \"divergent-bar\", \"uid\": \"1b8759b3-c02a-4245-b189-da40dd232f59\", \"height\": 25, \"options\": {\"name\": \"CA3 Glut Compartment Score\", \"showTooltip\": true, \"showMousePosition\": true, \"barFillColor\": \"#E71F19\", \"barFillColorTop\": \"#E71F19\", \"barFillColorBottom\": \"#16499D\"}}, {\"tilesetUid\": \"e860fO0GRByuo_vOFZ3xgQ\", \"server\": \"https://localhost:8989/api/v1\", \"type\": \"divergent-bar\", \"uid\": \"c035ba7f-6b2a-4aa9-8b05-56d124aafed6\", \"height\": 25, \"options\": {\"name\": \"Sst Gaba Compartment Score\", \"showTooltip\": true, \"showMousePosition\": true, \"barFillColor\": \"#E71F19\", \"barFillColorTop\": \"#E71F19\", \"barFillColorBottom\": \"#16499D\"}}, {\"tilesetUid\": \"Km3XbwriQUelxb9Y6kU3Ow\", \"server\": \"https://localhost:8989/api/v1\", \"type\": \"divergent-bar\", \"uid\": \"7fca9478-2621-45ee-a73e-9977ce63c8d4\", \"height\": 25, \"options\": {\"name\": \"L6 CT CTX Glut Compartment Score\", \"showTooltip\": true, \"showMousePosition\": true, \"barFillColor\": \"#E71F19\", \"barFillColorTop\": \"#E71F19\", \"barFillColorBottom\": \"#16499D\"}}]}, \"uid\": \"ab7da2ce-161c-4e09-9d08-e5bd330fe35f\", \"initialXDomain\": [9500000.0, 11500000.0], \"zoomLimits\": [1, null]}]},\n",
       "    );\n",
       "    </script>\n",
       "</html>"
      ],
      "text/plain": [
       "Viewconf(editable=True, viewEditable=True, tracksEditable=True, zoomFixed=None, compactLayout=None, exportViewUrl=None, trackSourceServers=None, views=[View(layout=Layout(x=0, y=0, w=12, h=6, moved=None, static=None), tracks=Tracks[TrackT](left=None, right=None, top=[EnumTrack(tilesetUid='EtrWT0VtScixmsmwFSd7zg', server='https://higlass.io/api/v1', type='chromosome-labels', uid='9aae47aa-46ef-44ac-bbee-2b98909434e0', width=None, height=25, options={'name': 'mm10 Chrom Sizes', 'showTooltip': True, 'showMousePosition': True, 'barFillColor': '#E71F19', 'barFillColorTop': '#E71F19', 'barFillColorBottom': '#16499D'}, data=None, chromInfoPath=None, fromViewUid=None, x=None, y=None), EnumTrack(tilesetUid='QDutvmyiSrec5nX4pA5WGQ', server='https://higlass.io/api/v1', type='gene-annotations', uid='2ab1ff70-a96f-432f-89b0-dc17f454ac5a', width=None, height=100, options={'name': 'mm10 Gene Annotations', 'showTooltip': True, 'showMousePosition': True, 'barFillColor': '#E71F19', 'barFillColorTop': '#E71F19', 'barFillColorBottom': '#16499D'}, data=None, chromInfoPath=None, fromViewUid=None, x=None, y=None), EnumTrack(tilesetUid='c5WaEeW1R7Ki2WGnURh2TA', server='https://localhost:8989/api/v1', type='bar', uid='6ee98f5d-a8f3-4971-ac1e-1f70696109a7', width=None, height=25, options={'name': 'CA3 Glut mCH Frac', 'showTooltip': True, 'showMousePosition': True, 'barFillColor': '#16499D', 'barFillColorTop': '#E71F19', 'barFillColorBottom': '#16499D'}, data=None, chromInfoPath=None, fromViewUid=None, x=None, y=None), EnumTrack(tilesetUid='W0OdIv84Q6yMfqpKvubetQ', server='https://localhost:8989/api/v1', type='bar', uid='a8923092-b671-412f-9b1f-a98e5911877d', width=None, height=25, options={'name': 'Sst Gaba mCH Frac', 'showTooltip': True, 'showMousePosition': True, 'barFillColor': '#16499D', 'barFillColorTop': '#E71F19', 'barFillColorBottom': '#16499D'}, data=None, chromInfoPath=None, fromViewUid=None, x=None, y=None), EnumTrack(tilesetUid='fCUnWnNbRRCaPg_6YNl8qQ', server='https://localhost:8989/api/v1', type='bar', uid='51e7e64f-d29e-440d-81cb-417d25bd370e', width=None, height=25, options={'name': 'L6 CT CTX Glut mCH Frac', 'showTooltip': True, 'showMousePosition': True, 'barFillColor': '#16499D', 'barFillColorTop': '#E71F19', 'barFillColorBottom': '#16499D'}, data=None, chromInfoPath=None, fromViewUid=None, x=None, y=None), EnumTrack(tilesetUid='SXCR5SEqREuMAE1Dx_LnxA', server='https://localhost:8989/api/v1', type='bar', uid='ae75ae1a-7b7f-4cad-89d5-f1d7a6c0b8cf', width=None, height=25, options={'name': 'CA3 Glut mCG Frac', 'showTooltip': True, 'showMousePosition': True, 'barFillColor': '#36AE37', 'barFillColorTop': '#E71F19', 'barFillColorBottom': '#16499D'}, data=None, chromInfoPath=None, fromViewUid=None, x=None, y=None), EnumTrack(tilesetUid='P8dzmuiKTWyOn9u2vqLg-w', server='https://localhost:8989/api/v1', type='bar', uid='2378a2c3-ce99-4661-8b18-52f3adcd3e50', width=None, height=25, options={'name': 'Sst Gaba mCG Frac', 'showTooltip': True, 'showMousePosition': True, 'barFillColor': '#36AE37', 'barFillColorTop': '#E71F19', 'barFillColorBottom': '#16499D'}, data=None, chromInfoPath=None, fromViewUid=None, x=None, y=None), EnumTrack(tilesetUid='QaLWlfpfScOdQcLq2PNSfw', server='https://localhost:8989/api/v1', type='bar', uid='7aa3c6b4-1409-4e60-8c2b-f077e8cc5c25', width=None, height=25, options={'name': 'L6 CT CTX Glut mCG Frac', 'showTooltip': True, 'showMousePosition': True, 'barFillColor': '#36AE37', 'barFillColorTop': '#E71F19', 'barFillColorBottom': '#16499D'}, data=None, chromInfoPath=None, fromViewUid=None, x=None, y=None), EnumTrack(tilesetUid='bt2BX-WeRneyzeT-xZOF5g', server='https://localhost:8989/api/v1', type='bar', uid='0fbce5d9-117a-4027-bb1e-98453d079c98', width=None, height=25, options={'name': 'CA3 Glut ATAC CPM', 'showTooltip': True, 'showMousePosition': True, 'barFillColor': '#EF7D1A', 'barFillColorTop': '#E71F19', 'barFillColorBottom': '#16499D'}, data=None, chromInfoPath=None, fromViewUid=None, x=None, y=None), EnumTrack(tilesetUid='fA7Rwv3MRn6g9gZpjZAhNg', server='https://localhost:8989/api/v1', type='bar', uid='101f18b6-3380-4ab0-b830-994bef2f7b5e', width=None, height=25, options={'name': 'Sst Gaba ATAC CPM', 'showTooltip': True, 'showMousePosition': True, 'barFillColor': '#EF7D1A', 'barFillColorTop': '#E71F19', 'barFillColorBottom': '#16499D'}, data=None, chromInfoPath=None, fromViewUid=None, x=None, y=None), EnumTrack(tilesetUid='cAqqyvTTTKW2hOCR0MGLFA', server='https://localhost:8989/api/v1', type='bar', uid='820503f8-aa84-48a9-8e04-17e9ded1458a', width=None, height=25, options={'name': 'L6 CT CTX Glut ATAC CPM', 'showTooltip': True, 'showMousePosition': True, 'barFillColor': '#EF7D1A', 'barFillColorTop': '#E71F19', 'barFillColorBottom': '#16499D'}, data=None, chromInfoPath=None, fromViewUid=None, x=None, y=None), EnumTrack(tilesetUid='N3HKj6v9Qd2LP2bnSNhmMA', server='https://localhost:8989/api/v1', type='bar', uid='c7109b9e-3cf6-4f35-8d51-51a82c698f79', width=None, height=25, options={'name': 'CA3 Glut Domain Boundary', 'showTooltip': True, 'showMousePosition': True, 'barFillColor': '#E71F19', 'barFillColorTop': '#E71F19', 'barFillColorBottom': '#16499D'}, data=None, chromInfoPath=None, fromViewUid=None, x=None, y=None), EnumTrack(tilesetUid='PMzIUx8IS5mOk8pPfDV-gA', server='https://localhost:8989/api/v1', type='bar', uid='bac1c914-a2a4-4154-a047-4ff0504e4ff7', width=None, height=25, options={'name': 'Sst Gaba Domain Boundary', 'showTooltip': True, 'showMousePosition': True, 'barFillColor': '#E71F19', 'barFillColorTop': '#E71F19', 'barFillColorBottom': '#16499D'}, data=None, chromInfoPath=None, fromViewUid=None, x=None, y=None), EnumTrack(tilesetUid='axCCDVoKSQGR1Ci03uH2eA', server='https://localhost:8989/api/v1', type='bar', uid='29f933e2-92c6-4712-a599-ce1b3d41f9a3', width=None, height=25, options={'name': 'L6 CT CTX Glut Domain Boundary', 'showTooltip': True, 'showMousePosition': True, 'barFillColor': '#E71F19', 'barFillColorTop': '#E71F19', 'barFillColorBottom': '#16499D'}, data=None, chromInfoPath=None, fromViewUid=None, x=None, y=None), EnumTrack(tilesetUid='OT476i4qRIWo0iMlNP0Yxg', server='https://localhost:8989/api/v1', type='divergent-bar', uid='1b8759b3-c02a-4245-b189-da40dd232f59', width=None, height=25, options={'name': 'CA3 Glut Compartment Score', 'showTooltip': True, 'showMousePosition': True, 'barFillColor': '#E71F19', 'barFillColorTop': '#E71F19', 'barFillColorBottom': '#16499D'}, data=None, chromInfoPath=None, fromViewUid=None, x=None, y=None), EnumTrack(tilesetUid='e860fO0GRByuo_vOFZ3xgQ', server='https://localhost:8989/api/v1', type='divergent-bar', uid='c035ba7f-6b2a-4aa9-8b05-56d124aafed6', width=None, height=25, options={'name': 'Sst Gaba Compartment Score', 'showTooltip': True, 'showMousePosition': True, 'barFillColor': '#E71F19', 'barFillColorTop': '#E71F19', 'barFillColorBottom': '#16499D'}, data=None, chromInfoPath=None, fromViewUid=None, x=None, y=None), EnumTrack(tilesetUid='Km3XbwriQUelxb9Y6kU3Ow', server='https://localhost:8989/api/v1', type='divergent-bar', uid='7fca9478-2621-45ee-a73e-9977ce63c8d4', width=None, height=25, options={'name': 'L6 CT CTX Glut Compartment Score', 'showTooltip': True, 'showMousePosition': True, 'barFillColor': '#E71F19', 'barFillColorTop': '#E71F19', 'barFillColorBottom': '#16499D'}, data=None, chromInfoPath=None, fromViewUid=None, x=None, y=None)], bottom=None, center=None, whole=None, gallery=None), uid='ab7da2ce-161c-4e09-9d08-e5bd330fe35f', autocompleteSource=None, chromInfoPath=None, genomePositionSearchBox=None, genomePositionSearchBoxVisible=None, initialXDomain=(9500000.0, 11500000.0), initialYDomain=None, overlays=None, selectionView=None, zoomFixed=None, zoomLimits=(1, None))], zoomLocks=None, locationLocks=None, valueScaleLocks=None, chromInfoPath=None)"
      ]
     },
     "execution_count": 8,
     "metadata": {},
     "output_type": "execute_result"
    }
   ],
   "source": [
    "vc, height = hgd.multi_cell_type_1d_viewconf(\n",
    "    cell_types=[ct1, ct2, ct3],\n",
    "    modalities=(\"mCH Frac\", \"mCG Frac\", \"ATAC CPM\", \"Domain Boundary\", \"Compartment Score\"),\n",
    "    groupby=\"modality\",\n",
    "    colorby='modality',\n",
    "    add_genome_track=True,\n",
    "    region=region1,\n",
    ")\n",
    "\n",
    "vc"
   ]
  },
  {
   "cell_type": "code",
   "execution_count": 17,
   "id": "63b4d14e-1201-4109-b08d-37f9c9a6bec4",
   "metadata": {
    "execution": {
     "iopub.execute_input": "2023-10-05T00:24:04.499614Z",
     "iopub.status.busy": "2023-10-05T00:24:04.499258Z",
     "iopub.status.idle": "2023-10-05T00:24:04.505879Z",
     "shell.execute_reply": "2023-10-05T00:24:04.505146Z",
     "shell.execute_reply.started": "2023-10-05T00:24:04.499588Z"
    }
   },
   "outputs": [
    {
     "data": {
      "text/plain": [
       "EnumTrack(tilesetUid='EtrWT0VtScixmsmwFSd7zg', server='https://higlass.io/api/v1', type='chromosome-labels', uid='9aae47aa-46ef-44ac-bbee-2b98909434e0', width=None, height=25, options={'name': 'mm10 Chrom Sizes', 'showTooltip': True, 'showMousePosition': True, 'barFillColor': '#E71F19', 'barFillColorTop': '#E71F19', 'barFillColorBottom': '#16499D'}, data=None, chromInfoPath=None, fromViewUid=None, x=None, y=None)"
      ]
     },
     "execution_count": 17,
     "metadata": {},
     "output_type": "execute_result"
    }
   ],
   "source": [
    "vc.views[0].tracks.top[0]"
   ]
  },
  {
   "cell_type": "code",
   "execution_count": null,
   "id": "e77033dd-bf06-40e5-b659-09406f764fef",
   "metadata": {},
   "outputs": [],
   "source": []
  },
  {
   "cell_type": "code",
   "execution_count": null,
   "id": "57945906-12d3-4872-986a-4e2d7509c2a0",
   "metadata": {},
   "outputs": [],
   "source": []
  },
  {
   "cell_type": "code",
   "execution_count": null,
   "id": "c5d79b03-88de-4606-98bd-bdac58f377bd",
   "metadata": {},
   "outputs": [],
   "source": []
  },
  {
   "cell_type": "code",
   "execution_count": null,
   "id": "028bd3a9-23c2-4ad8-a1ea-774d586b886c",
   "metadata": {},
   "outputs": [],
   "source": [
    "vc = hgd.two_cell_type_diff_viewconf(\n",
    "    cell_type_1=ct1, \n",
    "    cell_type_2=ct2, \n",
    "    modality_1d=modality_1d, \n",
    "    modality_2d=modality_2d,\n",
    "    region1=region1,\n",
    "    region2=region1\n",
    ")\n",
    "vc"
   ]
  },
  {
   "cell_type": "code",
   "execution_count": null,
   "id": "31ea2226-2521-4a03-a4f5-8eb112b62be0",
   "metadata": {},
   "outputs": [],
   "source": [
    "vc = hgd.loop_zoom_in_viewconf(\n",
    "    cell_type=ct1,\n",
    "    region1='chr1:10000000-11000000',\n",
    "    region2='chr1:18000000-19000000',\n",
    ")\n",
    "vc"
   ]
  },
  {
   "cell_type": "code",
   "execution_count": null,
   "id": "487625ab-6af8-4b01-8753-274ce5ef1182",
   "metadata": {},
   "outputs": [],
   "source": []
  },
  {
   "cell_type": "code",
   "execution_count": null,
   "id": "57562622-ae43-4939-acc9-9807d33eafa6",
   "metadata": {},
   "outputs": [],
   "source": []
  },
  {
   "cell_type": "code",
   "execution_count": null,
   "id": "a26f6f3a-723f-4d77-8122-47c5d14fba0e",
   "metadata": {},
   "outputs": [],
   "source": []
  },
  {
   "cell_type": "code",
   "execution_count": null,
   "id": "e0f8ae04-ad74-489b-a2e5-9a10669c5444",
   "metadata": {},
   "outputs": [],
   "source": []
  }
 ],
 "metadata": {
  "kernelspec": {
   "display_name": "Python 3 (ipykernel)",
   "language": "python",
   "name": "python3"
  },
  "language_info": {
   "codemirror_mode": {
    "name": "ipython",
    "version": 3
   },
   "file_extension": ".py",
   "mimetype": "text/x-python",
   "name": "python",
   "nbconvert_exporter": "python",
   "pygments_lexer": "ipython3",
   "version": "3.9.17"
  }
 },
 "nbformat": 4,
 "nbformat_minor": 5
}
