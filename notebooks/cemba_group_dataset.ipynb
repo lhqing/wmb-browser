{
 "cells": [
  {
   "cell_type": "code",
   "execution_count": 2,
   "id": "b3b68806-4e52-4786-9dc4-e031e1a2dd9a",
   "metadata": {
    "execution": {
     "iopub.execute_input": "2023-09-14T14:59:41.729562Z",
     "iopub.status.busy": "2023-09-14T14:59:41.729306Z",
     "iopub.status.idle": "2023-09-14T14:59:41.732645Z",
     "shell.execute_reply": "2023-09-14T14:59:41.732096Z",
     "shell.execute_reply.started": "2023-09-14T14:59:41.729545Z"
    }
   },
   "outputs": [],
   "source": [
    "import pandas as pd\n",
    "import xarray as xr\n",
    "import numpy as np"
   ]
  },
  {
   "cell_type": "code",
   "execution_count": null,
   "id": "08f57ad0-d627-496a-a62e-28d1628132e8",
   "metadata": {},
   "outputs": [],
   "source": []
  },
  {
   "cell_type": "code",
   "execution_count": 3,
   "id": "5cfa3956-f42c-452e-acbd-d25f77608495",
   "metadata": {
    "execution": {
     "iopub.execute_input": "2023-09-14T14:59:42.695323Z",
     "iopub.status.busy": "2023-09-14T14:59:42.695077Z",
     "iopub.status.idle": "2023-09-14T14:59:42.698399Z",
     "shell.execute_reply": "2023-09-14T14:59:42.697767Z",
     "shell.execute_reply.started": "2023-09-14T14:59:42.695300Z"
    }
   },
   "outputs": [],
   "source": [
    "# tds = xr.open_zarr('/cemba/wmb/cemba/CEMBA.snmC.L4Region.AIBS_TENX_COUNTS.zarr/')\n",
    "# da = np.log1p(tds['L4Region_da'] / tds['L4Region_umi_count'] * 1000000).astype('float32').load()\n",
    "# da.encoding['chunks'] = (5000, 500)\n",
    "# ds = xr.Dataset({'rna_da': da})\n",
    "# for k,v in ds.coords.items():\n",
    "#     ds.coords[k].encoding = {'chunks': (v.size, )}\n",
    "# ds = ds.rename({'L4Region': 'CellGroup'})\n",
    "# # ds.to_zarr('/browser/matrix/CEMBA.snmC.L4Region.AIBS_TENX.log1pCPM.zarr', mode='w')\n",
    "# ds"
   ]
  },
  {
   "cell_type": "code",
   "execution_count": 4,
   "id": "ec5c9696-852d-499d-a810-6e84ac7a91c0",
   "metadata": {
    "execution": {
     "iopub.execute_input": "2023-09-14T14:59:43.233542Z",
     "iopub.status.busy": "2023-09-14T14:59:43.233268Z",
     "iopub.status.idle": "2023-09-14T14:59:46.786656Z",
     "shell.execute_reply": "2023-09-14T14:59:46.786065Z",
     "shell.execute_reply.started": "2023-09-14T14:59:43.233523Z"
    }
   },
   "outputs": [],
   "source": [
    "from wmb_browser.backend import cemba_cell\n",
    "import seaborn as sns"
   ]
  },
  {
   "cell_type": "code",
   "execution_count": 5,
   "id": "465d374f-c575-4d7e-aeed-2d1be0863503",
   "metadata": {
    "execution": {
     "iopub.execute_input": "2023-09-14T14:59:46.789272Z",
     "iopub.status.busy": "2023-09-14T14:59:46.789118Z",
     "iopub.status.idle": "2023-09-14T14:59:47.637006Z",
     "shell.execute_reply": "2023-09-14T14:59:47.636438Z",
     "shell.execute_reply.started": "2023-09-14T14:59:46.789258Z"
    }
   },
   "outputs": [],
   "source": [
    "plot_data = cemba_cell.get_plot_data('mc_all_tsne', 'CellSubClass', 'gene_mch:Gad1', 'gene_rna:Gad1')"
   ]
  },
  {
   "cell_type": "code",
   "execution_count": 6,
   "id": "836540e5-f2e4-466e-92e3-c58df0eedcb2",
   "metadata": {
    "execution": {
     "iopub.execute_input": "2023-09-14T14:59:47.638203Z",
     "iopub.status.busy": "2023-09-14T14:59:47.637994Z",
     "iopub.status.idle": "2023-09-14T14:59:49.036011Z",
     "shell.execute_reply": "2023-09-14T14:59:49.035163Z",
     "shell.execute_reply.started": "2023-09-14T14:59:47.638187Z"
    }
   },
   "outputs": [],
   "source": [
    "fig = cemba_cell.categorical_scatter_figure('mc_all_tsne', 'CellSubClass', sample=50000)\n"
   ]
  },
  {
   "cell_type": "code",
   "execution_count": 9,
   "id": "a7898180-9d7c-419a-b19a-1ceb9c396c6f",
   "metadata": {
    "execution": {
     "iopub.execute_input": "2023-09-14T15:07:07.842315Z",
     "iopub.status.busy": "2023-09-14T15:07:07.841910Z",
     "iopub.status.idle": "2023-09-14T15:07:07.846520Z",
     "shell.execute_reply": "2023-09-14T15:07:07.845918Z",
     "shell.execute_reply.started": "2023-09-14T15:07:07.842275Z"
    }
   },
   "outputs": [
    {
     "data": {
      "text/plain": [
       "274"
      ]
     },
     "execution_count": 9,
     "metadata": {},
     "output_type": "execute_result"
    }
   ],
   "source": [
    "len(fig.data)"
   ]
  },
  {
   "cell_type": "code",
   "execution_count": null,
   "id": "3f973ab9-cf01-4fd2-b5ef-a686b23e7438",
   "metadata": {},
   "outputs": [],
   "source": []
  },
  {
   "cell_type": "code",
   "execution_count": null,
   "id": "952e4795-037a-412a-8541-e30ef6c47aa2",
   "metadata": {},
   "outputs": [],
   "source": []
  },
  {
   "cell_type": "code",
   "execution_count": null,
   "id": "139e7412-9562-4a7e-b855-398be7e43899",
   "metadata": {},
   "outputs": [],
   "source": []
  },
  {
   "cell_type": "code",
   "execution_count": null,
   "id": "bc57ff1f-e16e-4a1a-8578-ec0ea949b264",
   "metadata": {},
   "outputs": [],
   "source": []
  },
  {
   "cell_type": "code",
   "execution_count": null,
   "id": "b6dd17d2-bd21-48f2-a9c2-7a0fdd3d93ec",
   "metadata": {},
   "outputs": [],
   "source": []
  },
  {
   "cell_type": "code",
   "execution_count": null,
   "id": "1e7699e6-d023-4c13-8a47-e77771ae6006",
   "metadata": {},
   "outputs": [],
   "source": []
  },
  {
   "cell_type": "code",
   "execution_count": null,
   "id": "00abc6af-5602-498c-80ad-0e0bd158e945",
   "metadata": {},
   "outputs": [],
   "source": []
  },
  {
   "cell_type": "code",
   "execution_count": null,
   "id": "12fc892f-2580-49ca-9e91-626d48fc2200",
   "metadata": {},
   "outputs": [],
   "source": []
  },
  {
   "cell_type": "code",
   "execution_count": null,
   "id": "e106eea2-e1bb-49ef-9d82-b210c0eb8ec6",
   "metadata": {},
   "outputs": [],
   "source": []
  },
  {
   "cell_type": "code",
   "execution_count": null,
   "id": "c67681d0-678f-400a-9ecd-c4960cd4b353",
   "metadata": {},
   "outputs": [],
   "source": []
  },
  {
   "cell_type": "code",
   "execution_count": null,
   "id": "9099f9c8-29ff-474c-95ad-3def5a462c04",
   "metadata": {},
   "outputs": [],
   "source": []
  },
  {
   "cell_type": "code",
   "execution_count": null,
   "id": "c0eb2c95-b8ce-4e53-8fef-47ec80a44926",
   "metadata": {},
   "outputs": [],
   "source": []
  },
  {
   "cell_type": "code",
   "execution_count": null,
   "id": "77fc3090-8097-4913-bc54-e8adadac6c9f",
   "metadata": {},
   "outputs": [],
   "source": []
  }
 ],
 "metadata": {
  "kernelspec": {
   "display_name": "Python 3 (ipykernel)",
   "language": "python",
   "name": "python3"
  },
  "language_info": {
   "codemirror_mode": {
    "name": "ipython",
    "version": 3
   },
   "file_extension": ".py",
   "mimetype": "text/x-python",
   "name": "python",
   "nbconvert_exporter": "python",
   "pygments_lexer": "ipython3",
   "version": "3.9.17"
  }
 },
 "nbformat": 4,
 "nbformat_minor": 5
}
