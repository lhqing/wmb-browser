{
 "cells": [
  {
   "cell_type": "code",
   "execution_count": 23,
   "id": "1226db75-d17d-4b02-82b1-1671ae8e9efc",
   "metadata": {
    "execution": {
     "iopub.execute_input": "2023-09-18T00:57:39.783058Z",
     "iopub.status.busy": "2023-09-18T00:57:39.782793Z",
     "iopub.status.idle": "2023-09-18T00:57:39.801912Z",
     "shell.execute_reply": "2023-09-18T00:57:39.801328Z",
     "shell.execute_reply.started": "2023-09-18T00:57:39.783040Z"
    }
   },
   "outputs": [],
   "source": [
    "import json\n",
    "from typing import List, Tuple\n",
    "\n",
    "import openai\n",
    "from wmb_browser.backend.cemba_cell import cemba_cell\n",
    "\n",
    "categorical_variables = [\n",
    "    \"CCFRegionAcronym\",\n",
    "    \"CCFRegionBroadName\",\n",
    "    \"CEMBARegion\",\n",
    "    \"CellClass\",\n",
    "    \"CellGroup\",\n",
    "    \"CellSubClass\",\n",
    "    \"DissectionRegion\",\n",
    "    \"MajorRegion\",\n",
    "    \"Sample\",\n",
    "    \"SubRegion\",\n",
    "    \"Technology\",\n",
    "]\n",
    "\n",
    "continuous_variables = [\n",
    "    \"Slice\",\n",
    "    \"PlateNormCov\",\n",
    "    \"FinalmCReads\",\n",
    "    \"InputReads\",\n",
    "    \"GlobalOverallmCCCFrac\",\n",
    "    \"GlobalOverallmCGFrac\",\n",
    "    \"GlobalOverallmCHFrac\",\n",
    "]\n",
    "\n",
    "modalities = [\n",
    "    \"ImputeChrom100KMatrix\",\n",
    "    \"ImputeChrom10KMatrix\",\n",
    "    \"RawChrom100KMatrix\",\n",
    "    \"mCHFrac\",\n",
    "    \"mCGFrac\",\n",
    "    \"ATAC\",\n",
    "    \"DomainBoundaryProba\",\n",
    "    \"CompartmentScore\",\n",
    "]\n",
    "modalities_1d = [\n",
    "    \"mCHFrac\",\n",
    "    \"mCGFrac\",\n",
    "    \"ATAC\",\n",
    "    \"DomainBoundaryProba\",\n",
    "    \"CompartmentScore\",\n",
    "]\n",
    "modalities_2d = [\"ImputeChrom100KMatrix\", \"ImputeChrom10KMatrix\", \"RawChrom10KMatrix\"]\n",
    "\n",
    "alias = {\n",
    "    \"GlobalOverallmCCCFrac\": \"mCCCFrac\",\n",
    "    \"GlobalOverallmCGFrac\": \"mCGFrac\",\n",
    "    \"GlobalOverallmCHFrac\": \"mCHFrac\",\n",
    "    \"CCFRegionAcronym\": \"CCF_acronym\",\n",
    "    \"CCFRegionBroadName\": \"CCF_broad\",\n",
    "    \"CellCluster\": \"CellGroup\",\n",
    "    \"SubClass\": \"CellSubclass\",\n",
    "    \"ImputeChrom100KMatrix\": \"Impute100K\",\n",
    "    \"ImputeChrom10KMatrix\": \"Impute10K\",\n",
    "    \"RawChrom100KMatrix\": \"Raw100K\",\n",
    "}\n",
    "\n",
    "# make alias key case insensitive\n",
    "alias = {k.lower(): v for k, v in alias.items()}\n",
    "\n",
    "FUNCTIONS = [\n",
    "    {\n",
    "        \"name\": \"make_cell_scatter_plot\",\n",
    "        \"description\": \"Making tsne or umap scatter plot color by categorical or continous variable on named coordinates.\",\n",
    "        \"parameters\": {\n",
    "            \"type\": \"object\",\n",
    "            \"properties\": {\n",
    "                \"coord\": {\n",
    "                    \"type\": \"string\",\n",
    "                    \"description\": (\n",
    "                        \"The coords name can be any one of these regex: \"\n",
    "                        \"'l1_(tsne|umap)', '\\w+_mr_(tsne|umap)', 'slice\\d+_merfish'. \"\n",
    "                        \"The 'l1_(tsne|umap)' stand for a global coords for the entire dataset; \"\n",
    "                        \"The '\\w+_mr_(tsne|umap)' stand for major brain region coords, including these brain regions: \"\n",
    "                        f\"({cemba_cell.get_metadata('MajorRegion').cat.categories.tolist()}); \"\n",
    "                        \"the 'slice\\d+_merfish' stand for MERFISH spatial coords for cornoal brain slices.\"\n",
    "                    ),\n",
    "                    \"default\": (\n",
    "                        \"If no coords provided, use 'mc_all_tsne'; if not clear about which major region coords, \"\n",
    "                        \"use 'HPF_mr_tsne'; if not clear about which merfish MERFISH coords, use 'slice59_merfish'\"\n",
    "                    ),\n",
    "                },\n",
    "                \"color\": {\n",
    "                    \"type\": \"string\",\n",
    "                    \"description\": (\n",
    "                        \"A variable name for scatter color. \"\n",
    "                        f\"Categorical names: {categorical_variables}; \"\n",
    "                        f\"Continuous names: {continuous_variables}; \"\n",
    "                        \"Continuous variable can also be in the form of \"\n",
    "                        \"VALUE_TYPE:GENE_NAME, for example 'mch:Gad1', 'mcg:Foxp2', 'rna:Rorb'. \"\n",
    "                        \"mch stands for gene mCH fraction; mcg stands for gene mCG fraction; \"\n",
    "                        \"rna stands for gene expression.\"\n",
    "                    ),\n",
    "                    \"default\": (\n",
    "                        \"If user isn't clear about color, use the 'CCFRegionAcronym' for MERFISH coords, \"\n",
    "                        \"and use 'CellSubclass' for other coords\"\n",
    "                    ),\n",
    "                },\n",
    "                \"scatter_type\": {\n",
    "                    \"type\": \"string\",\n",
    "                    \"description\": (\n",
    "                        \"Determine the type of coloring variable. This can be infered from the color parameter.\"\n",
    "                    ),\n",
    "                    \"enum\": [\"continuous\", \"categorical\"],\n",
    "                },\n",
    "            },\n",
    "            \"required\": [\"scatter_type\", \"color\", \"coord\"],\n",
    "        },\n",
    "    },\n",
    "    {\n",
    "        \"name\": \"higlass_browser\",\n",
    "        \"description\": \"Making a cell type HiGlass browser. Each browser can take one or two or multiple cell types.\",\n",
    "        \"parameters\": {\n",
    "            \"type\": \"object\",\n",
    "            \"properties\": {\n",
    "                \"cell_types\": {\n",
    "                    \"type\": \"array\",\n",
    "                    \"description\": \"A list of cell types to be plotted in the browser.\",\n",
    "                    \"items\": {\n",
    "                        \"type\": \"string\",\n",
    "                        \"descriptions\": (\n",
    "                            \"Cell types names are short terms of \"\n",
    "                            f\"{cemba_cell.get_metadata('CellSubClass').cat.categories[[0, 32, 50, 80, 100, 150]]}\"\n",
    "                        ),\n",
    "                    },\n",
    "                    \"default\": [\"CA3 Glut\", \"Sst Gaba\"],\n",
    "                },\n",
    "                \"modalities\": {\n",
    "                    \"type\": \"array\",\n",
    "                    \"description\": \"A list of modalities to be plotted in the browser.\",\n",
    "                    \"items\": {\n",
    "                        \"type\": \"string\",\n",
    "                        \"enum\": modalities,\n",
    "                    },\n",
    "                },\n",
    "                \"browser_type\": {\n",
    "                    \"type\": \"string\",\n",
    "                    \"description\": (\n",
    "                        \"The type of the browser to be plotted. \"\n",
    "                        \"The multi_cell_type_1d or _2d browser can fit in multiple cell types. \"\n",
    "                        \"The two_cell_type_diff browser is for comparing the track \"\n",
    "                        \"difference between two cell types. \"\n",
    "                        \"The loop_zoom_in browser is for the large-scale and \"\n",
    "                        \"zoom-in view of a single cell type.\"\n",
    "                    ),\n",
    "                    \"enum\": [\n",
    "                        \"multi_cell_type_1d\",\n",
    "                        \"multi_cell_type_2d\",\n",
    "                        \"two_cell_type_diff\",\n",
    "                        \"loop_zoom_in\",\n",
    "                    ],\n",
    "                    \"default\": \"multi_cell_type_2d\",\n",
    "                },\n",
    "                \"region\": {\n",
    "                    \"type\": \"string\",\n",
    "                    \"description\": (\n",
    "                        \"The genome region of the browser, can be CHROM:START-END or a gene name. \"\n",
    "                        \"For example: chr1:2000000-2100000 or Gad1\"\n",
    "                    ),\n",
    "                    \"default\": \"Gad1\",\n",
    "                },\n",
    "            },\n",
    "            \"required\": [\"cell_types\", \"browser_type\", \"region\"],\n",
    "        },\n",
    "    },\n",
    "]\n",
    "\n",
    "\n",
    "def parse_user_input(user_input: str) -> Tuple[str, str, dict]:\n",
    "    \"\"\"Parse user input and return dataset, plot_type, and kwargs.\"\"\"\n",
    "    messages = [{\"role\": \"user\", \"content\": user_input}]\n",
    "    functions = FUNCTIONS\n",
    "    response = openai.ChatCompletion.create(\n",
    "        model=\"gpt-3.5-turbo-0613\",\n",
    "        messages=messages,\n",
    "        functions=functions,\n",
    "        function_call=\"auto\",  # auto is default, but we'll be explicit\n",
    "    )\n",
    "\n",
    "    response_message = response[\"choices\"][0][\"message\"]\n",
    "\n",
    "    # Step 2: check if GPT wanted to call a function\n",
    "    if response_message.get(\"function_call\"):\n",
    "        # Step 3: call the function\n",
    "        # Note: the JSON response may not always be valid; be sure to handle errors\n",
    "        # function_name = response_message[\"function_call\"][\"name\"]\n",
    "        try:\n",
    "            _func_call = response_message[\"function_call\"]\n",
    "            function_name = _func_call[\"name\"]\n",
    "            function_args = json.loads(_func_call[\"arguments\"])\n",
    "        except (json.JSONDecodeError, KeyError):\n",
    "            function_args = None\n",
    "            function_name = None\n",
    "        return function_name, function_args, response\n",
    "    else:\n",
    "        return None, None, response\n",
    "\n",
    "\n",
    "def _check_required_key(response, required_key, func_args):\n",
    "    for key in required_key:\n",
    "        if key not in func_args:\n",
    "            print(response)\n",
    "            raise KeyError(f\"GPT func_args do not have required key {key}\")\n",
    "    return\n",
    "\n",
    "\n",
    "def _alias_to_real_value(func_args):\n",
    "    real_func_args = func_args.copy()\n",
    "    for key, value in func_args.items():\n",
    "        if isinstance(value, str):\n",
    "            real_func_args[key] = alias.get(value.lower(), value)\n",
    "        elif isinstance(value, list):\n",
    "            real_func_args[key] = [alias.get(v.lower(), v) for v in value]\n",
    "        else:\n",
    "            pass\n",
    "    return real_func_args\n",
    "\n",
    "\n",
    "def gpt_response_to_function_call(func_name, func_args, gpt_response):\n",
    "    if func_name is None:\n",
    "        print(gpt_response)\n",
    "        raise ValueError(\"GPT failed to all functions\")\n",
    "    elif func_name == \"make_cell_scatter_plot\":\n",
    "        # call scatter plot function\n",
    "        dataset = \"cemba_cell\"\n",
    "\n",
    "        required_key = [\"scatter_type\", \"color\", \"coord\"]\n",
    "        _check_required_key(gpt_response, required_key, func_args)\n",
    "\n",
    "        # dealwith color\n",
    "        color = func_args[\"color\"]\n",
    "        if (\n",
    "            color.startswith(\"mch:\")\n",
    "            or color.startswith(\"mcg:\")\n",
    "            or color.startswith(\"rna:\")\n",
    "        ):\n",
    "            func_args[\"color\"] = \"gene_\" + color\n",
    "\n",
    "        _type = func_args.pop(\"scatter_type\")\n",
    "        plot_type = f\"{_type}_scatter\"\n",
    "\n",
    "        func_args = _alias_to_real_value(func_args)\n",
    "        return dataset, plot_type, func_args\n",
    "    elif func_name == \"higlass_browser\":\n",
    "        # call higlass browser function\n",
    "        dataset = \"higlass\"\n",
    "\n",
    "        required_key = [\"cell_types\", \"browser_type\"]\n",
    "        _check_required_key(gpt_response, required_key, func_args)\n",
    "\n",
    "        plot_type = func_args.pop(\"browser_type\")\n",
    "\n",
    "        # separate 1D and 2D modalities\n",
    "        modalities = func_args.pop(\"modalities\", [])\n",
    "        _m1d = [m for m in modalities if m in modalities_1d]\n",
    "        _m2d = [m for m in modalities if m in modalities_2d]\n",
    "        if len(_m1d) == 0:\n",
    "            _m1d = None\n",
    "        if len(_m2d) == 0:\n",
    "            _m2d = None\n",
    "        if plot_type == \"multi_cell_type_1d\":\n",
    "            func_args[\"modalities\"] = _m1d\n",
    "        else:\n",
    "            func_args[\"modality_1d\"] = _m1d\n",
    "            func_args[\"modality_2d\"] = _m2d\n",
    "\n",
    "        # dealwith cell types\n",
    "        if plot_type == \"two_cell_type_diff\":\n",
    "            ct1, ct2, *_ = func_args.pop(\"cell_types\")\n",
    "            func_args[\"cell_type_1\"] = ct1\n",
    "            func_args[\"cell_type_2\"] = ct2\n",
    "        elif plot_type == \"loop_zoom_in\":\n",
    "            ct, *_ = func_args.pop(\"cell_types\")\n",
    "            func_args[\"cell_type\"] = ct\n",
    "        else:\n",
    "            pass\n",
    "\n",
    "        # dealwith region\n",
    "        region = func_args.pop(\"region\", \"Gad1\")\n",
    "        if plot_type == \"multi_cell_type_1d\":\n",
    "            func_args[\"region\"] = region\n",
    "        else:\n",
    "            func_args[\"region1\"] = region\n",
    "\n",
    "        func_args = _alias_to_real_value(func_args)\n",
    "        return dataset, plot_type, func_args\n",
    "    else:\n",
    "        print(gpt_response)\n",
    "        raise ValueError(f\"GPT function {func_name} is not supported\")\n",
    "\n",
    "\n",
    "def chatgpt_string_to_args_and_kwargs(string):\n",
    "    func_name, func_args, gpt_response = parse_user_input(string)\n",
    "    print(func_name)\n",
    "    print(func_args)\n",
    "    dataset, plot_type, kwargs = gpt_response_to_function_call(\n",
    "        func_name, func_args, gpt_response\n",
    "    )\n",
    "    return dataset, plot_type, [], kwargs"
   ]
  },
  {
   "cell_type": "code",
   "execution_count": 24,
   "id": "ee011e6a-343b-4337-a7d8-a6f5b7367f54",
   "metadata": {
    "execution": {
     "iopub.execute_input": "2023-09-18T00:57:40.434799Z",
     "iopub.status.busy": "2023-09-18T00:57:40.434489Z",
     "iopub.status.idle": "2023-09-18T00:57:43.345128Z",
     "shell.execute_reply": "2023-09-18T00:57:43.344604Z",
     "shell.execute_reply.started": "2023-09-18T00:57:40.434778Z"
    }
   },
   "outputs": [
    {
     "name": "stdout",
     "output_type": "stream",
     "text": [
      "higlass_browser\n",
      "{'cell_types': ['CA3 Glut', 'Sst Gaba'], 'modalities': ['mCHFrac', 'mCGFrac', 'ImputeChrom10KMatrix'], 'browser_type': 'two_cell_type_diff', 'region': 'chr1:10000000-13000000'}\n"
     ]
    },
    {
     "data": {
      "text/plain": [
       "('higlass',\n",
       " 'two_cell_type_diff',\n",
       " {'modality_1d': ['mCHFrac', 'mCGFrac'],\n",
       "  'modality_2d': ['Impute10K'],\n",
       "  'cell_type_1': 'CA3 Glut',\n",
       "  'cell_type_2': 'Sst Gaba',\n",
       "  'region1': 'chr1:10000000-13000000'})"
      ]
     },
     "execution_count": 24,
     "metadata": {},
     "output_type": "execute_result"
    }
   ],
   "source": [
    "dataset, plot_type, [], kwargs = chatgpt_string_to_args_and_kwargs(\n",
    "    \"Compare the mCH, mCG and chrom 10K 3C matrix difference between CA3 Glut and Sst Gaba, plot at region chr1:10000000-13000000.\"\n",
    ")\n",
    "dataset, plot_type, kwargs"
   ]
  },
  {
   "cell_type": "code",
   "execution_count": 13,
   "id": "fd80e3d5-20d3-47b6-8197-764f946160f6",
   "metadata": {
    "execution": {
     "iopub.execute_input": "2023-09-18T00:10:51.125070Z",
     "iopub.status.busy": "2023-09-18T00:10:51.124804Z",
     "iopub.status.idle": "2023-09-18T00:10:53.064589Z",
     "shell.execute_reply": "2023-09-18T00:10:53.063871Z",
     "shell.execute_reply.started": "2023-09-18T00:10:51.125051Z"
    }
   },
   "outputs": [
    {
     "name": "stdout",
     "output_type": "stream",
     "text": [
      "higlass_browser\n",
      "{'cell_types': ['CA3 Glut', 'Sst Gaba', 'Pvalb Gaba'], 'browser_type': 'multi_cell_type_2d', 'region': 'Slc17a7'}\n"
     ]
    },
    {
     "data": {
      "text/plain": [
       "('higlass',\n",
       " 'multi_cell_type_2d',\n",
       " {'cell_types': ['CA3 Glut', 'Sst Gaba', 'Pvalb Gaba'],\n",
       "  'modality_1d': None,\n",
       "  'modality_2d': None,\n",
       "  'region1': 'Slc17a7'})"
      ]
     },
     "execution_count": 13,
     "metadata": {},
     "output_type": "execute_result"
    }
   ],
   "source": [
    "dataset, plot_type, [], kwargs = chatgpt_string_to_args_and_kwargs(\n",
    "    \"Show me a multi 2D higlass browser for three cell types: CA3 Glut, Sst Gaba, Pvalb Gaba, plot at the Slc17a7 gene\"\n",
    ")\n",
    "dataset, plot_type, kwargs"
   ]
  },
  {
   "cell_type": "code",
   "execution_count": 4,
   "id": "36cc34b7-6cc9-4b30-af22-b69fc2d2ef4b",
   "metadata": {
    "execution": {
     "iopub.execute_input": "2023-09-17T23:32:08.529750Z",
     "iopub.status.busy": "2023-09-17T23:32:08.529494Z",
     "iopub.status.idle": "2023-09-17T23:32:08.534138Z",
     "shell.execute_reply": "2023-09-17T23:32:08.533568Z",
     "shell.execute_reply.started": "2023-09-17T23:32:08.529733Z"
    }
   },
   "outputs": [
    {
     "data": {
      "text/plain": [
       "'higlass_browser'"
      ]
     },
     "execution_count": 4,
     "metadata": {},
     "output_type": "execute_result"
    }
   ],
   "source": [
    "func_name"
   ]
  },
  {
   "cell_type": "code",
   "execution_count": 5,
   "id": "5cb74edc-6f1d-4e51-965a-71de9f658173",
   "metadata": {
    "execution": {
     "iopub.execute_input": "2023-09-17T23:31:41.256700Z",
     "iopub.status.busy": "2023-09-17T23:31:41.256364Z",
     "iopub.status.idle": "2023-09-17T23:31:41.261299Z",
     "shell.execute_reply": "2023-09-17T23:31:41.260789Z",
     "shell.execute_reply.started": "2023-09-17T23:31:41.256675Z"
    }
   },
   "outputs": [
    {
     "data": {
      "text/plain": [
       "{'modality_1d': ['mCHFrac', 'mCGFrac', 'DomainBoundaryProba'],\n",
       " 'modality_2d': ['ImputeChrom10KMatrix'],\n",
       " 'cell_type_1': 'CA1-ProS Glut',\n",
       " 'cell_type_2': 'CA3 Glut'}"
      ]
     },
     "execution_count": 5,
     "metadata": {},
     "output_type": "execute_result"
    }
   ],
   "source": [
    "func_args"
   ]
  },
  {
   "cell_type": "code",
   "execution_count": null,
   "id": "5bf17540-3750-48d0-a2fa-9df6ce3173f9",
   "metadata": {},
   "outputs": [],
   "source": []
  },
  {
   "cell_type": "code",
   "execution_count": null,
   "id": "4b9e2a0a-c21b-4aa2-9dab-15de8e40c633",
   "metadata": {},
   "outputs": [],
   "source": []
  },
  {
   "cell_type": "code",
   "execution_count": null,
   "id": "3caaa3e9-b3e8-487b-8fdc-2fe358f946d3",
   "metadata": {},
   "outputs": [],
   "source": []
  },
  {
   "cell_type": "code",
   "execution_count": null,
   "id": "2d306eb7-3923-455a-af6f-3632fa664291",
   "metadata": {},
   "outputs": [],
   "source": []
  },
  {
   "cell_type": "code",
   "execution_count": null,
   "id": "2c753224-9755-467b-8030-f669b74de92d",
   "metadata": {},
   "outputs": [],
   "source": [
    "func_name, func_args, gpt_response = parse_user_input(\n",
    "    \"Compare the mCH, mCG and Domain Boundary difference between CA1-ProS Glut and CA3 Glut in 1D browser\"\n",
    ")"
   ]
  },
  {
   "cell_type": "code",
   "execution_count": null,
   "id": "0955d6e6-8d36-489c-8cd9-e3dd1e41fd9d",
   "metadata": {},
   "outputs": [],
   "source": []
  },
  {
   "cell_type": "code",
   "execution_count": null,
   "id": "8a240b56-a91f-46cf-a3c4-24f4ce573638",
   "metadata": {},
   "outputs": [],
   "source": []
  },
  {
   "cell_type": "code",
   "execution_count": null,
   "id": "b1fcba7b-e25a-483b-85ea-be252ab27d87",
   "metadata": {},
   "outputs": [],
   "source": []
  },
  {
   "cell_type": "code",
   "execution_count": 4,
   "id": "366fba8b-bd44-4315-b03e-14e4fc1f604d",
   "metadata": {
    "execution": {
     "iopub.execute_input": "2023-09-17T22:56:22.137000Z",
     "iopub.status.busy": "2023-09-17T22:56:22.136725Z",
     "iopub.status.idle": "2023-09-17T22:56:23.790922Z",
     "shell.execute_reply": "2023-09-17T22:56:23.790211Z",
     "shell.execute_reply.started": "2023-09-17T22:56:22.136980Z"
    }
   },
   "outputs": [],
   "source": [
    "function_args, response = parse_user_input(\n",
    "    \"Show me a plot of global mCH on global tsne\"\n",
    ")"
   ]
  },
  {
   "cell_type": "code",
   "execution_count": 5,
   "id": "0995c923-0715-4cb3-ad92-440aa2b986d8",
   "metadata": {
    "execution": {
     "iopub.execute_input": "2023-09-17T22:56:23.792260Z",
     "iopub.status.busy": "2023-09-17T22:56:23.792062Z",
     "iopub.status.idle": "2023-09-17T22:56:23.796576Z",
     "shell.execute_reply": "2023-09-17T22:56:23.795960Z",
     "shell.execute_reply.started": "2023-09-17T22:56:23.792243Z"
    }
   },
   "outputs": [
    {
     "data": {
      "text/plain": [
       "{'coords': 'l1_tsne',\n",
       " 'color': 'GlobalOverallmCHFrac',\n",
       " 'scatter_type': 'continuous'}"
      ]
     },
     "execution_count": 5,
     "metadata": {},
     "output_type": "execute_result"
    }
   ],
   "source": [
    "function_args"
   ]
  },
  {
   "cell_type": "code",
   "execution_count": 6,
   "id": "4a54cc1c-4bcd-46fa-b257-7f2a20f9f422",
   "metadata": {
    "execution": {
     "iopub.execute_input": "2023-09-17T22:56:23.797366Z",
     "iopub.status.busy": "2023-09-17T22:56:23.797190Z",
     "iopub.status.idle": "2023-09-17T22:56:23.802077Z",
     "shell.execute_reply": "2023-09-17T22:56:23.801478Z",
     "shell.execute_reply.started": "2023-09-17T22:56:23.797352Z"
    }
   },
   "outputs": [
    {
     "data": {
      "text/plain": [
       "<OpenAIObject chat.completion id=chatcmpl-7zuycSAkD8sdTXt4IutKr56Y4Izqz at 0x7f4f9d56a450> JSON: {\n",
       "  \"id\": \"chatcmpl-7zuycSAkD8sdTXt4IutKr56Y4Izqz\",\n",
       "  \"object\": \"chat.completion\",\n",
       "  \"created\": 1694991382,\n",
       "  \"model\": \"gpt-3.5-turbo-0613\",\n",
       "  \"choices\": [\n",
       "    {\n",
       "      \"index\": 0,\n",
       "      \"message\": {\n",
       "        \"role\": \"assistant\",\n",
       "        \"content\": null,\n",
       "        \"function_call\": {\n",
       "          \"name\": \"make_cell_scatter_plot\",\n",
       "          \"arguments\": \"{\\n  \\\"coords\\\": \\\"l1_tsne\\\",\\n  \\\"color\\\": \\\"GlobalOverallmCHFrac\\\",\\n  \\\"scatter_type\\\": \\\"continuous\\\"\\n}\"\n",
       "        }\n",
       "      },\n",
       "      \"finish_reason\": \"function_call\"\n",
       "    }\n",
       "  ],\n",
       "  \"usage\": {\n",
       "    \"prompt_tokens\": 725,\n",
       "    \"completion_tokens\": 41,\n",
       "    \"total_tokens\": 766\n",
       "  }\n",
       "}"
      ]
     },
     "execution_count": 6,
     "metadata": {},
     "output_type": "execute_result"
    }
   ],
   "source": [
    "response"
   ]
  },
  {
   "cell_type": "code",
   "execution_count": null,
   "id": "05c50b76-1be0-4b40-b4fe-29ec60661c0d",
   "metadata": {},
   "outputs": [],
   "source": []
  },
  {
   "cell_type": "code",
   "execution_count": null,
   "id": "d71fda9d-4057-4193-920b-79cf1637ac5a",
   "metadata": {},
   "outputs": [],
   "source": []
  },
  {
   "cell_type": "code",
   "execution_count": null,
   "id": "2bf84615-30ce-4cc2-bed0-0fb73b4d1756",
   "metadata": {},
   "outputs": [],
   "source": []
  },
  {
   "cell_type": "code",
   "execution_count": null,
   "id": "1de770ad-643f-4c38-a598-ee0071b204c9",
   "metadata": {},
   "outputs": [],
   "source": []
  },
  {
   "cell_type": "code",
   "execution_count": null,
   "id": "77c54f30-388a-4a67-83ad-edc2c75ac271",
   "metadata": {},
   "outputs": [],
   "source": []
  },
  {
   "cell_type": "code",
   "execution_count": null,
   "id": "3f6e0274-29a0-4e80-934a-559698aaea57",
   "metadata": {},
   "outputs": [],
   "source": []
  },
  {
   "cell_type": "code",
   "execution_count": null,
   "id": "85ae283b-e976-49e1-96b7-fc889fdc3bcd",
   "metadata": {},
   "outputs": [],
   "source": []
  },
  {
   "cell_type": "code",
   "execution_count": null,
   "id": "d7096b67-7ff9-4ea5-a8ec-b954e04332a1",
   "metadata": {},
   "outputs": [],
   "source": []
  },
  {
   "cell_type": "code",
   "execution_count": null,
   "id": "e7010691-c032-44a3-a8de-4ec19531d680",
   "metadata": {},
   "outputs": [],
   "source": []
  }
 ],
 "metadata": {
  "kernelspec": {
   "display_name": "Python 3 (ipykernel)",
   "language": "python",
   "name": "python3"
  },
  "language_info": {
   "codemirror_mode": {
    "name": "ipython",
    "version": 3
   },
   "file_extension": ".py",
   "mimetype": "text/x-python",
   "name": "python",
   "nbconvert_exporter": "python",
   "pygments_lexer": "ipython3",
   "version": "3.9.17"
  }
 },
 "nbformat": 4,
 "nbformat_minor": 5
}
